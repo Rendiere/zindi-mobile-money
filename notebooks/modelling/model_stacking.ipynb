{
 "cells": [
  {
   "cell_type": "code",
   "execution_count": 13,
   "metadata": {},
   "outputs": [],
   "source": [
    "import os\n",
    "import pandas as pd\n",
    "import numpy as np\n",
    "\n",
    "from src.utils import make_sub"
   ]
  },
  {
   "cell_type": "code",
   "execution_count": 2,
   "metadata": {},
   "outputs": [
    {
     "name": "stdout",
     "output_type": "stream",
     "text": [
      "baseline.csv     wild_shot.csv    wild_shot_2.csv  xgb_baseline.csv\n"
     ]
    }
   ],
   "source": [
    "!ls ../../data/submissions"
   ]
  },
  {
   "cell_type": "code",
   "execution_count": 20,
   "metadata": {},
   "outputs": [
    {
     "name": "stdout",
     "output_type": "stream",
     "text": [
      "loaded ../../data/submissions/baseline.csv\n",
      "loaded ../../data/submissions/xgb_baseline.csv\n",
      "loaded ../../data/submissions/xgb_baseline_tuned.csv\n"
     ]
    }
   ],
   "source": [
    "submissions = ['baseline.csv', 'xgb_baseline.csv', 'xgb_baseline_tuned.csv']\n",
    "\n",
    "subs_data = []\n",
    "for submission in submissions:\n",
    "    fpath = os.path.join('../../data/submissions', submission)\n",
    "    sub_df = pd.read_csv(fpath, index_col=0)\n",
    "    print('loaded',fpath)\n",
    "    subs_data.append(sub_df.values)"
   ]
  },
  {
   "cell_type": "code",
   "execution_count": 21,
   "metadata": {},
   "outputs": [
    {
     "data": {
      "text/html": [
       "<div>\n",
       "<style scoped>\n",
       "    .dataframe tbody tr th:only-of-type {\n",
       "        vertical-align: middle;\n",
       "    }\n",
       "\n",
       "    .dataframe tbody tr th {\n",
       "        vertical-align: top;\n",
       "    }\n",
       "\n",
       "    .dataframe thead th {\n",
       "        text-align: right;\n",
       "    }\n",
       "</style>\n",
       "<table border=\"1\" class=\"dataframe\">\n",
       "  <thead>\n",
       "    <tr style=\"text-align: right;\">\n",
       "      <th></th>\n",
       "      <th>no_financial_services</th>\n",
       "      <th>other_only</th>\n",
       "      <th>mm_only</th>\n",
       "      <th>mm_plus</th>\n",
       "    </tr>\n",
       "  </thead>\n",
       "  <tbody>\n",
       "    <tr>\n",
       "      <th>2352</th>\n",
       "      <td>0.000764</td>\n",
       "      <td>0.001190</td>\n",
       "      <td>0.215858</td>\n",
       "      <td>0.782189</td>\n",
       "    </tr>\n",
       "    <tr>\n",
       "      <th>8208</th>\n",
       "      <td>0.021741</td>\n",
       "      <td>0.049291</td>\n",
       "      <td>0.149398</td>\n",
       "      <td>0.779570</td>\n",
       "    </tr>\n",
       "    <tr>\n",
       "      <th>2785</th>\n",
       "      <td>0.001499</td>\n",
       "      <td>0.013961</td>\n",
       "      <td>0.118010</td>\n",
       "      <td>0.866531</td>\n",
       "    </tr>\n",
       "    <tr>\n",
       "      <th>2967</th>\n",
       "      <td>0.383097</td>\n",
       "      <td>0.528678</td>\n",
       "      <td>0.022458</td>\n",
       "      <td>0.065767</td>\n",
       "    </tr>\n",
       "    <tr>\n",
       "      <th>1697</th>\n",
       "      <td>0.000616</td>\n",
       "      <td>0.001663</td>\n",
       "      <td>0.104073</td>\n",
       "      <td>0.893648</td>\n",
       "    </tr>\n",
       "  </tbody>\n",
       "</table>\n",
       "</div>"
      ],
      "text/plain": [
       "      no_financial_services  other_only   mm_only   mm_plus\n",
       "2352               0.000764    0.001190  0.215858  0.782189\n",
       "8208               0.021741    0.049291  0.149398  0.779570\n",
       "2785               0.001499    0.013961  0.118010  0.866531\n",
       "2967               0.383097    0.528678  0.022458  0.065767\n",
       "1697               0.000616    0.001663  0.104073  0.893648"
      ]
     },
     "execution_count": 21,
     "metadata": {},
     "output_type": "execute_result"
    }
   ],
   "source": [
    "mean_probs = np.stack(subs_data, axis=0).mean(axis=0)\n",
    "\n",
    "sub_df = make_sub(mean_probs)\n",
    "\n",
    "sub_df.head()"
   ]
  },
  {
   "cell_type": "code",
   "execution_count": 22,
   "metadata": {},
   "outputs": [],
   "source": [
    "sub_df.to_csv(\"../../data/submissions/mean_stacked.csv\")"
   ]
  },
  {
   "cell_type": "code",
   "execution_count": null,
   "metadata": {},
   "outputs": [],
   "source": []
  }
 ],
 "metadata": {
  "kernelspec": {
   "display_name": "Python 3",
   "language": "python",
   "name": "python3"
  },
  "language_info": {
   "codemirror_mode": {
    "name": "ipython",
    "version": 3
   },
   "file_extension": ".py",
   "mimetype": "text/x-python",
   "name": "python",
   "nbconvert_exporter": "python",
   "pygments_lexer": "ipython3",
   "version": "3.7.2"
  }
 },
 "nbformat": 4,
 "nbformat_minor": 2
}

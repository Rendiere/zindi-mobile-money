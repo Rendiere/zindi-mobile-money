{
 "cells": [
  {
   "cell_type": "code",
   "execution_count": 84,
   "metadata": {},
   "outputs": [
    {
     "name": "stdout",
     "output_type": "stream",
     "text": [
      "The autoreload extension is already loaded. To reload it, use:\n",
      "  %reload_ext autoreload\n"
     ]
    }
   ],
   "source": [
    "%load_ext autoreload\n",
    "%autoreload 2\n",
    "%matplotlib inline\n",
    "\n",
    "import warnings\n",
    "warnings.simplefilter('ignore')"
   ]
  },
  {
   "cell_type": "markdown",
   "metadata": {},
   "source": [
    "# Light GBM Baseline"
   ]
  },
  {
   "cell_type": "code",
   "execution_count": 2,
   "metadata": {},
   "outputs": [
    {
     "name": "stderr",
     "output_type": "stream",
     "text": [
      "/Users/renier.botha/anaconda3/envs/mobile_money/lib/python3.7/site-packages/lightgbm/__init__.py:46: UserWarning: Starting from version 2.2.1, the library file in distribution wheels for macOS is built by the Apple Clang (Xcode_9.4.1) compiler.\n",
      "This means that in case of installing LightGBM from PyPI via the ``pip install lightgbm`` command, you don't need to install the gcc compiler anymore.\n",
      "Instead of that, you need to install the OpenMP library, which is required for running LightGBM on the system with the Apple Clang compiler.\n",
      "You can install the OpenMP library by the following command: ``brew install libomp``.\n",
      "  \"You can install the OpenMP library by the following command: ``brew install libomp``.\", UserWarning)\n"
     ]
    }
   ],
   "source": [
    "import numpy as np\n",
    "import pandas as pd\n",
    "import lightgbm as lgb"
   ]
  },
  {
   "cell_type": "code",
   "execution_count": 3,
   "metadata": {},
   "outputs": [
    {
     "name": "stdout",
     "output_type": "stream",
     "text": [
      "Updating Homebrew...\n",
      "\u001b[34m==>\u001b[0m \u001b[1mAuto-updated Homebrew!\u001b[0m\n",
      "Updated 3 taps (homebrew/core, homebrew/cask and osgeo/osgeo4mac).\n",
      "\u001b[34m==>\u001b[0m \u001b[1mUpdated Formulae\u001b[0m\n",
      "\u001b[1marpack \u001b[32m✔\u001b[0m\u001b[0m                                 qwt\n",
      "\u001b[1mosgeo/osgeo4mac/osgeo-libgeotiff \u001b[32m✔\u001b[0m\u001b[0m       rancid\n",
      "\u001b[1mosgeo/osgeo4mac/osgeo-libspatialite \u001b[32m✔\u001b[0m\u001b[0m    re2\n",
      "\u001b[1mosgeo/osgeo4mac/osgeo-proj \u001b[32m✔\u001b[0m\u001b[0m             remind\n",
      "\u001b[1msuperlu \u001b[32m✔\u001b[0m\u001b[0m                                sdcc\n",
      "calicoctl                                sdl2_ttf\n",
      "corsixth                                 serd\n",
      "cql                                      ship\n",
      "cracklib                                 shyaml\n",
      "dynare                                   smali\n",
      "etl                                      source-to-image\n",
      "gtk-gnutella                             spin\n",
      "hypre                                    sratom\n",
      "kubernetes-helm                          srt\n",
      "lilv                                     sslscan\n",
      "lv2                                      stk\n",
      "mariadb-connector-c                      stunnel\n",
      "octave                                   suite-sparse\n",
      "osgeo/osgeo4mac/osgeo-gdal               sundials\n",
      "osgeo/osgeo4mac/osgeo-hexer              synfig\n",
      "osgeo/osgeo4mac/osgeo-pcl                sysbench\n",
      "osgeo/osgeo4mac/osgeo-vtk                talloc\n",
      "pinfo                                    tass64\n",
      "postgresql@9.5                           tbb\n",
      "pure-ftpd                                tcsh\n",
      "qca                                      tdlib\n",
      "qd                                       texmath\n",
      "qrupdate                                 velero\n",
      "\u001b[34m==>\u001b[0m \u001b[1mDeleted Formulae\u001b[0m\n",
      "gtk-engines         gtk-murrine-engine  rlvm                xmoto\n",
      "\n",
      "\u001b[34m==>\u001b[0m \u001b[1mDownloading https://homebrew.bintray.com/bottles/libomp-8.0.0.mojave.bottle.\u001b[0m\n",
      "\u001b[34m==>\u001b[0m \u001b[1mDownloading from https://akamai.bintray.com/6c/6c8f66a6582efa00620593e16a41f\u001b[0m\n",
      "######################################################################## 100.0%\n",
      "\u001b[34m==>\u001b[0m \u001b[1mPouring libomp-8.0.0.mojave.bottle.tar.gz\u001b[0m\n",
      "🍺  /usr/local/Cellar/libomp/8.0.0: 9 files, 1.3MB\n"
     ]
    }
   ],
   "source": [
    "! brew install libomp"
   ]
  },
  {
   "cell_type": "markdown",
   "metadata": {},
   "source": [
    "## Load Data and Create Features / Labels"
   ]
  },
  {
   "cell_type": "code",
   "execution_count": 19,
   "metadata": {},
   "outputs": [
    {
     "data": {
      "text/html": [
       "<div>\n",
       "<style scoped>\n",
       "    .dataframe tbody tr th:only-of-type {\n",
       "        vertical-align: middle;\n",
       "    }\n",
       "\n",
       "    .dataframe tbody tr th {\n",
       "        vertical-align: top;\n",
       "    }\n",
       "\n",
       "    .dataframe thead th {\n",
       "        text-align: right;\n",
       "    }\n",
       "</style>\n",
       "<table border=\"1\" class=\"dataframe\">\n",
       "  <thead>\n",
       "    <tr style=\"text-align: right;\">\n",
       "      <th></th>\n",
       "      <th>Q1</th>\n",
       "      <th>Q2</th>\n",
       "      <th>Q3</th>\n",
       "      <th>Q4</th>\n",
       "      <th>Q5</th>\n",
       "      <th>Q6</th>\n",
       "      <th>Q7</th>\n",
       "      <th>Q8_1</th>\n",
       "      <th>Q8_2</th>\n",
       "      <th>Q8_3</th>\n",
       "      <th>...</th>\n",
       "      <th>Q12</th>\n",
       "      <th>Q13</th>\n",
       "      <th>Q14</th>\n",
       "      <th>Q15</th>\n",
       "      <th>Q16</th>\n",
       "      <th>Q17</th>\n",
       "      <th>Q18</th>\n",
       "      <th>Q19</th>\n",
       "      <th>Latitude</th>\n",
       "      <th>Longitude</th>\n",
       "    </tr>\n",
       "    <tr>\n",
       "      <th>ID</th>\n",
       "      <th></th>\n",
       "      <th></th>\n",
       "      <th></th>\n",
       "      <th></th>\n",
       "      <th></th>\n",
       "      <th></th>\n",
       "      <th></th>\n",
       "      <th></th>\n",
       "      <th></th>\n",
       "      <th></th>\n",
       "      <th></th>\n",
       "      <th></th>\n",
       "      <th></th>\n",
       "      <th></th>\n",
       "      <th></th>\n",
       "      <th></th>\n",
       "      <th></th>\n",
       "      <th></th>\n",
       "      <th></th>\n",
       "      <th></th>\n",
       "      <th></th>\n",
       "    </tr>\n",
       "  </thead>\n",
       "  <tbody>\n",
       "    <tr>\n",
       "      <th>5086</th>\n",
       "      <td>98</td>\n",
       "      <td>2</td>\n",
       "      <td>3</td>\n",
       "      <td>1</td>\n",
       "      <td>1</td>\n",
       "      <td>2</td>\n",
       "      <td>2</td>\n",
       "      <td>0</td>\n",
       "      <td>0</td>\n",
       "      <td>0</td>\n",
       "      <td>...</td>\n",
       "      <td>2</td>\n",
       "      <td>-1</td>\n",
       "      <td>2</td>\n",
       "      <td>-1</td>\n",
       "      <td>1</td>\n",
       "      <td>-1</td>\n",
       "      <td>4</td>\n",
       "      <td>4</td>\n",
       "      <td>-4.460442</td>\n",
       "      <td>29.811396</td>\n",
       "    </tr>\n",
       "    <tr>\n",
       "      <th>1258</th>\n",
       "      <td>40</td>\n",
       "      <td>1</td>\n",
       "      <td>1</td>\n",
       "      <td>3</td>\n",
       "      <td>5</td>\n",
       "      <td>1</td>\n",
       "      <td>1</td>\n",
       "      <td>1</td>\n",
       "      <td>0</td>\n",
       "      <td>0</td>\n",
       "      <td>...</td>\n",
       "      <td>1</td>\n",
       "      <td>4</td>\n",
       "      <td>1</td>\n",
       "      <td>5</td>\n",
       "      <td>4</td>\n",
       "      <td>4</td>\n",
       "      <td>1</td>\n",
       "      <td>4</td>\n",
       "      <td>-6.176438</td>\n",
       "      <td>39.244871</td>\n",
       "    </tr>\n",
       "    <tr>\n",
       "      <th>331</th>\n",
       "      <td>18</td>\n",
       "      <td>2</td>\n",
       "      <td>4</td>\n",
       "      <td>6</td>\n",
       "      <td>3</td>\n",
       "      <td>2</td>\n",
       "      <td>1</td>\n",
       "      <td>0</td>\n",
       "      <td>0</td>\n",
       "      <td>0</td>\n",
       "      <td>...</td>\n",
       "      <td>2</td>\n",
       "      <td>-1</td>\n",
       "      <td>2</td>\n",
       "      <td>-1</td>\n",
       "      <td>1</td>\n",
       "      <td>-1</td>\n",
       "      <td>1</td>\n",
       "      <td>1</td>\n",
       "      <td>-6.825702</td>\n",
       "      <td>37.652798</td>\n",
       "    </tr>\n",
       "    <tr>\n",
       "      <th>6729</th>\n",
       "      <td>50</td>\n",
       "      <td>1</td>\n",
       "      <td>1</td>\n",
       "      <td>3</td>\n",
       "      <td>1</td>\n",
       "      <td>1</td>\n",
       "      <td>1</td>\n",
       "      <td>0</td>\n",
       "      <td>0</td>\n",
       "      <td>0</td>\n",
       "      <td>...</td>\n",
       "      <td>1</td>\n",
       "      <td>2</td>\n",
       "      <td>2</td>\n",
       "      <td>-1</td>\n",
       "      <td>4</td>\n",
       "      <td>-1</td>\n",
       "      <td>1</td>\n",
       "      <td>4</td>\n",
       "      <td>-3.372049</td>\n",
       "      <td>35.808307</td>\n",
       "    </tr>\n",
       "    <tr>\n",
       "      <th>8671</th>\n",
       "      <td>34</td>\n",
       "      <td>1</td>\n",
       "      <td>1</td>\n",
       "      <td>1</td>\n",
       "      <td>1</td>\n",
       "      <td>2</td>\n",
       "      <td>1</td>\n",
       "      <td>0</td>\n",
       "      <td>1</td>\n",
       "      <td>0</td>\n",
       "      <td>...</td>\n",
       "      <td>2</td>\n",
       "      <td>-1</td>\n",
       "      <td>1</td>\n",
       "      <td>1</td>\n",
       "      <td>1</td>\n",
       "      <td>-1</td>\n",
       "      <td>1</td>\n",
       "      <td>4</td>\n",
       "      <td>-7.179645</td>\n",
       "      <td>31.039095</td>\n",
       "    </tr>\n",
       "  </tbody>\n",
       "</table>\n",
       "<p>5 rows × 31 columns</p>\n",
       "</div>"
      ],
      "text/plain": [
       "      Q1  Q2  Q3  Q4  Q5  Q6  Q7  Q8_1  Q8_2  Q8_3  ...  Q12  Q13  Q14  Q15  \\\n",
       "ID                                                  ...                       \n",
       "5086  98   2   3   1   1   2   2     0     0     0  ...    2   -1    2   -1   \n",
       "1258  40   1   1   3   5   1   1     1     0     0  ...    1    4    1    5   \n",
       "331   18   2   4   6   3   2   1     0     0     0  ...    2   -1    2   -1   \n",
       "6729  50   1   1   3   1   1   1     0     0     0  ...    1    2    2   -1   \n",
       "8671  34   1   1   1   1   2   1     0     1     0  ...    2   -1    1    1   \n",
       "\n",
       "      Q16  Q17  Q18  Q19  Latitude  Longitude  \n",
       "ID                                             \n",
       "5086    1   -1    4    4 -4.460442  29.811396  \n",
       "1258    4    4    1    4 -6.176438  39.244871  \n",
       "331     1   -1    1    1 -6.825702  37.652798  \n",
       "6729    4   -1    1    4 -3.372049  35.808307  \n",
       "8671    1   -1    1    4 -7.179645  31.039095  \n",
       "\n",
       "[5 rows x 31 columns]"
      ]
     },
     "execution_count": 19,
     "metadata": {},
     "output_type": "execute_result"
    }
   ],
   "source": [
    "df = pd.read_csv('../../data/raw/training.csv', index_col=0)\n",
    "# df.replace(-1, np.NaN, inplace=True)\n",
    "\n",
    "X = df.drop(['mobile_money','savings','borrowing','insurance','mobile_money_classification'], axis=1)\n",
    "y = df['mobile_money_classification']\n",
    "\n",
    "X.head()"
   ]
  },
  {
   "cell_type": "markdown",
   "metadata": {},
   "source": [
    "## Setup scoring function and baseline parameters"
   ]
  },
  {
   "cell_type": "code",
   "execution_count": 40,
   "metadata": {},
   "outputs": [
    {
     "name": "stdout",
     "output_type": "stream",
     "text": [
      "Train size:  (5320, 31)\n",
      "Val size:  (1774, 31)\n",
      "\n",
      "LGBM Params:\n",
      "{'bagging_fraction': 0.8,\n",
      " 'bagging_freq': 5,\n",
      " 'boosting_type': 'gbdt',\n",
      " 'feature_fraction': 0.9,\n",
      " 'learning_rate': 0.05,\n",
      " 'max_depth': 8,\n",
      " 'metric': ['multiclass'],\n",
      " 'num_class': 4,\n",
      " 'num_leaves': 256,\n",
      " 'objective': 'multiclassova',\n",
      " 'seed': 2019,\n",
      " 'verbose': 0}\n"
     ]
    }
   ],
   "source": [
    "from pprint import pprint\n",
    "from sklearn.model_selection import StratifiedKFold, train_test_split\n",
    "from sklearn.metrics import log_loss\n",
    "\n",
    "seed = 2019\n",
    "\n",
    "np.random.seed(seed)\n",
    "\n",
    "def zindi_score(y_test, probs):\n",
    "    \"\"\"\n",
    "    Score as we are being scored on LB\n",
    "    \"\"\"\n",
    "    losses = []\n",
    "    for c in [0,1,2,3]:\n",
    "        labels = [1 if i == c else 0 for i in y_test]\n",
    "        loss = log_loss(labels, probs[:, c])\n",
    "        losses.append(loss)\n",
    "    return sum(losses)\n",
    "\n",
    "\n",
    "n_classes = y.nunique()\n",
    "\n",
    "# Params that won't be changed\n",
    "model_params = {\n",
    "    'boosting_type': 'gbdt',\n",
    "    'objective': 'multiclassova',\n",
    "    'metric': ['multiclass'],\n",
    "    'num_class': n_classes,\n",
    "    'verbose': 0,\n",
    "    'seed': 2019\n",
    "}\n",
    "\n",
    "# Some default params to start with\n",
    "starter_params = {\n",
    "    'max_depth': 8,\n",
    "    'num_leaves': 2**8,\n",
    "    'learning_rate': 0.05,\n",
    "    'feature_fraction': 0.9,\n",
    "    'bagging_fraction': 0.8,\n",
    "    'bagging_freq': 5,\n",
    "    'verbose': 0\n",
    "}\n",
    "# Combine parameters sets into one\n",
    "lgbm_params = {**model_params, **starter_params}\n",
    "\n",
    "\n",
    "X_train, X_val, y_train, y_val = train_test_split(X, y, test_size=0.25, random_state=seed,)\n",
    "\n",
    "d_train = lgb.Dataset(X_train, y_train)\n",
    "d_val = lgb.Dataset(X_val, y_val, reference=d_train)\n",
    "\n",
    "print('Train size: ', X_train.shape)\n",
    "print('Val size: ', X_val.shape)\n",
    "print('\\nLGBM Params:')\n",
    "pprint(lgbm_params)"
   ]
  },
  {
   "cell_type": "markdown",
   "metadata": {},
   "source": [
    "## Define Training Method and Fixed Params"
   ]
  },
  {
   "cell_type": "code",
   "execution_count": 61,
   "metadata": {},
   "outputs": [],
   "source": [
    "CAT_VARS = ['Q2','Q3','Q4','Q5','Q6','Q7','Q8_1',\n",
    "            'Q8_2','Q8_3','Q8_4','Q8_5','Q8_6',\n",
    "            'Q8_7','Q8_8','Q8_9','Q8_10','Q8_11',\n",
    "            'Q9','Q10','Q11','Q12','Q13','Q14',\n",
    "            'Q15','Q16','Q17','Q18','Q19']\n",
    "CONT_VARS = ['Q1']\n",
    "LOC_VARS = ['Latitude','Longitude']\n",
    "\n",
    "NUM_BOOST_ROUND=100\n",
    "EARLY_STOPPING_ROUNDS=10\n",
    "\n",
    "def train_evaluate(X, y, params):\n",
    "    X_train, X_valid, y_train, y_valid = train_test_split(X, y, test_size=0.2, random_state=1234)\n",
    "\n",
    "    train_data = lgb.Dataset(X_train, label=y_train)\n",
    "    valid_data = lgb.Dataset(X_valid, label=y_valid, reference=train_data)\n",
    "\n",
    "    model = lgb.train(params, train_data,\n",
    "                      num_boost_round=NUM_BOOST_ROUND,\n",
    "                      early_stopping_rounds=EARLY_STOPPING_ROUNDS,\n",
    "                      verbose_eval=False,\n",
    "                      valid_sets=[valid_data], \n",
    "                      valid_names=['valid'])\n",
    "    \n",
    "    return model"
   ]
  },
  {
   "cell_type": "markdown",
   "metadata": {},
   "source": [
    "## Train Model"
   ]
  },
  {
   "cell_type": "code",
   "execution_count": 62,
   "metadata": {},
   "outputs": [
    {
     "name": "stdout",
     "output_type": "stream",
     "text": [
      "Best score =  0.6781779620183997\n",
      "Zindi Score =  2.1598427697918883\n"
     ]
    }
   ],
   "source": [
    "model = train_evaluate(X, y, lgbm_params)\n",
    "\n",
    "print('Best score = ',model.best_score['valid']['multi_logloss'])\n",
    "\n",
    "val_probs = model.predict(X_val)\n",
    "\n",
    "print('Zindi Score = ',zindi_score(y_val, val_probs))"
   ]
  },
  {
   "cell_type": "markdown",
   "metadata": {},
   "source": [
    "**Not great...but this is the baseline...**"
   ]
  },
  {
   "cell_type": "markdown",
   "metadata": {},
   "source": [
    "## Create Submission"
   ]
  },
  {
   "cell_type": "code",
   "execution_count": 45,
   "metadata": {},
   "outputs": [],
   "source": [
    "from src.utils import make_sub"
   ]
  },
  {
   "cell_type": "code",
   "execution_count": 46,
   "metadata": {},
   "outputs": [
    {
     "data": {
      "text/html": [
       "<div>\n",
       "<style scoped>\n",
       "    .dataframe tbody tr th:only-of-type {\n",
       "        vertical-align: middle;\n",
       "    }\n",
       "\n",
       "    .dataframe tbody tr th {\n",
       "        vertical-align: top;\n",
       "    }\n",
       "\n",
       "    .dataframe thead th {\n",
       "        text-align: right;\n",
       "    }\n",
       "</style>\n",
       "<table border=\"1\" class=\"dataframe\">\n",
       "  <thead>\n",
       "    <tr style=\"text-align: right;\">\n",
       "      <th></th>\n",
       "      <th>no_financial_services</th>\n",
       "      <th>other_only</th>\n",
       "      <th>mm_only</th>\n",
       "      <th>mm_plus</th>\n",
       "    </tr>\n",
       "  </thead>\n",
       "  <tbody>\n",
       "    <tr>\n",
       "      <th>2352</th>\n",
       "      <td>0.316213</td>\n",
       "      <td>0.316162</td>\n",
       "      <td>0.350120</td>\n",
       "      <td>0.636292</td>\n",
       "    </tr>\n",
       "    <tr>\n",
       "      <th>8208</th>\n",
       "      <td>0.316216</td>\n",
       "      <td>0.324592</td>\n",
       "      <td>0.411304</td>\n",
       "      <td>0.569396</td>\n",
       "    </tr>\n",
       "    <tr>\n",
       "      <th>2785</th>\n",
       "      <td>0.316731</td>\n",
       "      <td>0.318040</td>\n",
       "      <td>0.369359</td>\n",
       "      <td>0.629162</td>\n",
       "    </tr>\n",
       "    <tr>\n",
       "      <th>2967</th>\n",
       "      <td>0.432228</td>\n",
       "      <td>0.527281</td>\n",
       "      <td>0.322743</td>\n",
       "      <td>0.375517</td>\n",
       "    </tr>\n",
       "    <tr>\n",
       "      <th>1697</th>\n",
       "      <td>0.316802</td>\n",
       "      <td>0.316177</td>\n",
       "      <td>0.356312</td>\n",
       "      <td>0.625250</td>\n",
       "    </tr>\n",
       "  </tbody>\n",
       "</table>\n",
       "</div>"
      ],
      "text/plain": [
       "      no_financial_services  other_only   mm_only   mm_plus\n",
       "2352               0.316213    0.316162  0.350120  0.636292\n",
       "8208               0.316216    0.324592  0.411304  0.569396\n",
       "2785               0.316731    0.318040  0.369359  0.629162\n",
       "2967               0.432228    0.527281  0.322743  0.375517\n",
       "1697               0.316802    0.316177  0.356312  0.625250"
      ]
     },
     "execution_count": 46,
     "metadata": {},
     "output_type": "execute_result"
    }
   ],
   "source": [
    "X_test = pd.read_csv('../../data/raw/test.csv', index_col=0)\n",
    "\n",
    "test_probs = model.predict(X_test)\n",
    "\n",
    "sub_df = make_sub(test_probs)\n",
    "\n",
    "sub_df.head()"
   ]
  },
  {
   "cell_type": "code",
   "execution_count": 47,
   "metadata": {},
   "outputs": [],
   "source": [
    "sub_df.to_csv('../../data/submissions/lgbm_baseline.csv')"
   ]
  },
  {
   "cell_type": "markdown",
   "metadata": {},
   "source": [
    "### Zindi Results\n",
    "\n",
    "Got a score of 2.09365447154372 on Zindi. "
   ]
  },
  {
   "cell_type": "code",
   "execution_count": null,
   "metadata": {},
   "outputs": [],
   "source": []
  }
 ],
 "metadata": {
  "kernelspec": {
   "display_name": "Python 3",
   "language": "python",
   "name": "python3"
  },
  "language_info": {
   "codemirror_mode": {
    "name": "ipython",
    "version": 3
   },
   "file_extension": ".py",
   "mimetype": "text/x-python",
   "name": "python",
   "nbconvert_exporter": "python",
   "pygments_lexer": "ipython3",
   "version": "3.7.2"
  }
 },
 "nbformat": 4,
 "nbformat_minor": 2
}

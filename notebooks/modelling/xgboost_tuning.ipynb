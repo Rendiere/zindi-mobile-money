{
 "cells": [
  {
   "cell_type": "code",
   "execution_count": 1,
   "metadata": {},
   "outputs": [],
   "source": [
    "%load_ext autoreload\n",
    "%autoreload 2\n",
    "%matplotlib inline"
   ]
  },
  {
   "cell_type": "markdown",
   "metadata": {},
   "source": [
    "# XGBoost \n",
    "\n",
    "Set up cross validation, model creation functions and model tuning "
   ]
  },
  {
   "cell_type": "code",
   "execution_count": 2,
   "metadata": {},
   "outputs": [],
   "source": [
    "import numpy as np\n",
    "import pandas as pd\n",
    "import xgboost as xgb\n",
    "\n",
    "import warnings\n",
    "warnings.simplefilter('ignore')"
   ]
  },
  {
   "cell_type": "markdown",
   "metadata": {},
   "source": [
    "## Load Data and Create Features / Labels"
   ]
  },
  {
   "cell_type": "code",
   "execution_count": 3,
   "metadata": {},
   "outputs": [
    {
     "data": {
      "text/html": [
       "<div>\n",
       "<style scoped>\n",
       "    .dataframe tbody tr th:only-of-type {\n",
       "        vertical-align: middle;\n",
       "    }\n",
       "\n",
       "    .dataframe tbody tr th {\n",
       "        vertical-align: top;\n",
       "    }\n",
       "\n",
       "    .dataframe thead th {\n",
       "        text-align: right;\n",
       "    }\n",
       "</style>\n",
       "<table border=\"1\" class=\"dataframe\">\n",
       "  <thead>\n",
       "    <tr style=\"text-align: right;\">\n",
       "      <th></th>\n",
       "      <th>Q1</th>\n",
       "      <th>Q2</th>\n",
       "      <th>Q3</th>\n",
       "      <th>Q4</th>\n",
       "      <th>Q5</th>\n",
       "      <th>Q6</th>\n",
       "      <th>Q7</th>\n",
       "      <th>Q8_1</th>\n",
       "      <th>Q8_2</th>\n",
       "      <th>Q8_3</th>\n",
       "      <th>...</th>\n",
       "      <th>Q12</th>\n",
       "      <th>Q13</th>\n",
       "      <th>Q14</th>\n",
       "      <th>Q15</th>\n",
       "      <th>Q16</th>\n",
       "      <th>Q17</th>\n",
       "      <th>Q18</th>\n",
       "      <th>Q19</th>\n",
       "      <th>Latitude</th>\n",
       "      <th>Longitude</th>\n",
       "    </tr>\n",
       "    <tr>\n",
       "      <th>ID</th>\n",
       "      <th></th>\n",
       "      <th></th>\n",
       "      <th></th>\n",
       "      <th></th>\n",
       "      <th></th>\n",
       "      <th></th>\n",
       "      <th></th>\n",
       "      <th></th>\n",
       "      <th></th>\n",
       "      <th></th>\n",
       "      <th></th>\n",
       "      <th></th>\n",
       "      <th></th>\n",
       "      <th></th>\n",
       "      <th></th>\n",
       "      <th></th>\n",
       "      <th></th>\n",
       "      <th></th>\n",
       "      <th></th>\n",
       "      <th></th>\n",
       "      <th></th>\n",
       "    </tr>\n",
       "  </thead>\n",
       "  <tbody>\n",
       "    <tr>\n",
       "      <th>5086</th>\n",
       "      <td>98</td>\n",
       "      <td>2</td>\n",
       "      <td>3</td>\n",
       "      <td>1</td>\n",
       "      <td>1</td>\n",
       "      <td>2</td>\n",
       "      <td>2</td>\n",
       "      <td>0</td>\n",
       "      <td>0</td>\n",
       "      <td>0</td>\n",
       "      <td>...</td>\n",
       "      <td>2</td>\n",
       "      <td>-1</td>\n",
       "      <td>2</td>\n",
       "      <td>-1</td>\n",
       "      <td>1</td>\n",
       "      <td>-1</td>\n",
       "      <td>4</td>\n",
       "      <td>4</td>\n",
       "      <td>-4.460442</td>\n",
       "      <td>29.811396</td>\n",
       "    </tr>\n",
       "    <tr>\n",
       "      <th>1258</th>\n",
       "      <td>40</td>\n",
       "      <td>1</td>\n",
       "      <td>1</td>\n",
       "      <td>3</td>\n",
       "      <td>5</td>\n",
       "      <td>1</td>\n",
       "      <td>1</td>\n",
       "      <td>1</td>\n",
       "      <td>0</td>\n",
       "      <td>0</td>\n",
       "      <td>...</td>\n",
       "      <td>1</td>\n",
       "      <td>4</td>\n",
       "      <td>1</td>\n",
       "      <td>5</td>\n",
       "      <td>4</td>\n",
       "      <td>4</td>\n",
       "      <td>1</td>\n",
       "      <td>4</td>\n",
       "      <td>-6.176438</td>\n",
       "      <td>39.244871</td>\n",
       "    </tr>\n",
       "    <tr>\n",
       "      <th>331</th>\n",
       "      <td>18</td>\n",
       "      <td>2</td>\n",
       "      <td>4</td>\n",
       "      <td>6</td>\n",
       "      <td>3</td>\n",
       "      <td>2</td>\n",
       "      <td>1</td>\n",
       "      <td>0</td>\n",
       "      <td>0</td>\n",
       "      <td>0</td>\n",
       "      <td>...</td>\n",
       "      <td>2</td>\n",
       "      <td>-1</td>\n",
       "      <td>2</td>\n",
       "      <td>-1</td>\n",
       "      <td>1</td>\n",
       "      <td>-1</td>\n",
       "      <td>1</td>\n",
       "      <td>1</td>\n",
       "      <td>-6.825702</td>\n",
       "      <td>37.652798</td>\n",
       "    </tr>\n",
       "    <tr>\n",
       "      <th>6729</th>\n",
       "      <td>50</td>\n",
       "      <td>1</td>\n",
       "      <td>1</td>\n",
       "      <td>3</td>\n",
       "      <td>1</td>\n",
       "      <td>1</td>\n",
       "      <td>1</td>\n",
       "      <td>0</td>\n",
       "      <td>0</td>\n",
       "      <td>0</td>\n",
       "      <td>...</td>\n",
       "      <td>1</td>\n",
       "      <td>2</td>\n",
       "      <td>2</td>\n",
       "      <td>-1</td>\n",
       "      <td>4</td>\n",
       "      <td>-1</td>\n",
       "      <td>1</td>\n",
       "      <td>4</td>\n",
       "      <td>-3.372049</td>\n",
       "      <td>35.808307</td>\n",
       "    </tr>\n",
       "    <tr>\n",
       "      <th>8671</th>\n",
       "      <td>34</td>\n",
       "      <td>1</td>\n",
       "      <td>1</td>\n",
       "      <td>1</td>\n",
       "      <td>1</td>\n",
       "      <td>2</td>\n",
       "      <td>1</td>\n",
       "      <td>0</td>\n",
       "      <td>1</td>\n",
       "      <td>0</td>\n",
       "      <td>...</td>\n",
       "      <td>2</td>\n",
       "      <td>-1</td>\n",
       "      <td>1</td>\n",
       "      <td>1</td>\n",
       "      <td>1</td>\n",
       "      <td>-1</td>\n",
       "      <td>1</td>\n",
       "      <td>4</td>\n",
       "      <td>-7.179645</td>\n",
       "      <td>31.039095</td>\n",
       "    </tr>\n",
       "  </tbody>\n",
       "</table>\n",
       "<p>5 rows × 31 columns</p>\n",
       "</div>"
      ],
      "text/plain": [
       "      Q1  Q2  Q3  Q4  Q5  Q6  Q7  Q8_1  Q8_2  Q8_3  ...  Q12  Q13  Q14  Q15  \\\n",
       "ID                                                  ...                       \n",
       "5086  98   2   3   1   1   2   2     0     0     0  ...    2   -1    2   -1   \n",
       "1258  40   1   1   3   5   1   1     1     0     0  ...    1    4    1    5   \n",
       "331   18   2   4   6   3   2   1     0     0     0  ...    2   -1    2   -1   \n",
       "6729  50   1   1   3   1   1   1     0     0     0  ...    1    2    2   -1   \n",
       "8671  34   1   1   1   1   2   1     0     1     0  ...    2   -1    1    1   \n",
       "\n",
       "      Q16  Q17  Q18  Q19  Latitude  Longitude  \n",
       "ID                                             \n",
       "5086    1   -1    4    4 -4.460442  29.811396  \n",
       "1258    4    4    1    4 -6.176438  39.244871  \n",
       "331     1   -1    1    1 -6.825702  37.652798  \n",
       "6729    4   -1    1    4 -3.372049  35.808307  \n",
       "8671    1   -1    1    4 -7.179645  31.039095  \n",
       "\n",
       "[5 rows x 31 columns]"
      ]
     },
     "execution_count": 3,
     "metadata": {},
     "output_type": "execute_result"
    }
   ],
   "source": [
    "df = pd.read_csv('../../data/raw/training.csv', index_col=0)\n",
    "# df.replace(-1, 99, inplace=True)\n",
    "\n",
    "X = df.drop(['mobile_money','savings','borrowing','insurance','mobile_money_classification'], axis=1)\n",
    "y = df['mobile_money_classification']\n",
    "\n",
    "X.head()"
   ]
  },
  {
   "cell_type": "code",
   "execution_count": 4,
   "metadata": {},
   "outputs": [
    {
     "data": {
      "image/png": "[encoded data removed]",
      "text/plain": [
       "<Figure size 720x432 with 1 Axes>"
      ]
     },
     "metadata": {
      "needs_background": "light"
     },
     "output_type": "display_data"
    }
   ],
   "source": [
    "plot = y.value_counts(normalize=True).plot(kind='bar', title='Target Variable Distribution', figsize=(10,6))\n",
    "plot.set_xlabel('Class')\n",
    "plot.set_ylabel('Percentage');"
   ]
  },
  {
   "cell_type": "markdown",
   "metadata": {},
   "source": [
    "## Create XBoost Model"
   ]
  },
  {
   "cell_type": "code",
   "execution_count": 5,
   "metadata": {},
   "outputs": [],
   "source": [
    "from sklearn.model_selection import StratifiedKFold, train_test_split\n",
    "from sklearn.metrics import log_loss\n",
    "from xgboost.sklearn import XGBClassifier\n",
    "\n",
    "seed = 2019\n",
    "\n",
    "np.random.seed(seed)\n",
    "\n",
    "def zindi_score(y_test, probs):\n",
    "    \"\"\"\n",
    "    Score as we are being scored on LB\n",
    "    \"\"\"\n",
    "    losses = []\n",
    "    for c in [0,1,2,3]:\n",
    "        labels = [1 if i == c else 0 for i in y_test]\n",
    "        loss = log_loss(labels, probs[:, c])\n",
    "        losses.append(loss)\n",
    "    return sum(losses)"
   ]
  },
  {
   "cell_type": "markdown",
   "metadata": {},
   "source": [
    "### Define Model and Starter Parameters"
   ]
  },
  {
   "cell_type": "code",
   "execution_count": 6,
   "metadata": {},
   "outputs": [],
   "source": [
    "n_classes = y.nunique()\n",
    "\n",
    "# Params that won't be changed\n",
    "model_params = {\n",
    "    'objective': 'multi:softprob', #multiclass classification, but output probabilities not classes\n",
    "    'num_class': 4,\n",
    "    'eval_metric': 'mlogloss',\n",
    "    'seed': 2019\n",
    "}\n",
    "\n",
    "# Some default params to start with\n",
    "starter_params = {\n",
    "    'n_estimators': 500,\n",
    "    'max_depth': 5,\n",
    "    'gamma': 0,\n",
    "    'min_child_weight': 1,\n",
    "    'learning_rate': 0.05,\n",
    "    'subsample': 0.8,\n",
    "    'scale_pos_weight': 1\n",
    "}\n",
    "# Combine parameters sets into one\n",
    "xgb_params = {**model_params}\n",
    "xgb_params.update(starter_params)"
   ]
  },
  {
   "cell_type": "markdown",
   "metadata": {},
   "source": [
    "### Create Preprocessing and Feature Extraction Pipeline(s)"
   ]
  },
  {
   "cell_type": "code",
   "execution_count": 7,
   "metadata": {},
   "outputs": [],
   "source": [
    "from sklearn.pipeline import Pipeline, FeatureUnion\n",
    "from sklearn.preprocessing import KBinsDiscretizer, OneHotEncoder\n",
    "from src.features.transformers import ColumnExtractor, MMAgentsInVicinity\n",
    "from sklearn.feature_selection import VarianceThreshold\n",
    "\n",
    "from category_encoders import BinaryEncoder\n",
    "\n",
    "def create_cats(x, cat_vars):\n",
    "    cats = [list(range(low, high+1)) for low, high in zip(x[cat_vars].min(), x[cat_vars].max())]\n",
    "    return cats\n",
    "\n",
    "CONT_VARS = ['Q1']\n",
    "CAT_VARS = ['Q2','Q3','Q4','Q5','Q6','Q7','Q8_1',\n",
    "            'Q8_2','Q8_3','Q8_4','Q8_5','Q8_6',\n",
    "            'Q8_7','Q8_8','Q8_9','Q8_10','Q8_11',\n",
    "            'Q9','Q10','Q11','Q12','Q13','Q14',\n",
    "            'Q15','Q16','Q17','Q18','Q19']\n",
    "LAT_LON = ['Latitude','Longitude']\n",
    "\n",
    "\n",
    "continuous_pipeline = Pipeline([\n",
    "        ('extract', ColumnExtractor(CONT_VARS)),\n",
    "        ('discretize',KBinsDiscretizer(n_bins=7))\n",
    "])\n",
    "\n",
    "categorical_pipeline = Pipeline([\n",
    "        ('extract', ColumnExtractor(CAT_VARS)),\n",
    "#         ('encode', BinaryEncoder(cols=CAT_VARS)),\n",
    "])\n",
    "\n",
    "location_pipeline = Pipeline([\n",
    "        ('extract', ColumnExtractor(LAT_LON)),\n",
    "        ('mm_agents_5km', MMAgentsInVicinity(radius=5))\n",
    "])\n",
    "\n",
    "# Combine individual pipelines\n",
    "preprocessing_pipeline = FeatureUnion([\n",
    "    ('continuous', continuous_pipeline),\n",
    "    ('categorical', categorical_pipeline),\n",
    "    ('location', location_pipeline)\n",
    "])"
   ]
  },
  {
   "cell_type": "code",
   "execution_count": 8,
   "metadata": {},
   "outputs": [],
   "source": [
    "def modelfit(alg, X, y ,useTrainCV=True, cv_folds=5, early_stopping_rounds=50):\n",
    "    \n",
    "    if useTrainCV:\n",
    "        xgb_param = alg.get_xgb_params()\n",
    "        xgtrain = xgb.DMatrix(X, label=y)\n",
    "        cvresult = xgb.cv(xgb_param, \n",
    "                          xgtrain, \n",
    "                          num_boost_round=alg.get_params()['n_estimators'], \n",
    "                          nfold=cv_folds,\n",
    "                          metrics='mlogloss', \n",
    "                          early_stopping_rounds=early_stopping_rounds, )\n",
    "        \n",
    "        alg.set_params(n_estimators=cvresult.shape[0])\n",
    "    \n",
    "    #Fit the algorithm on the data\n",
    "    alg.fit(X, y, eval_metric='mlogloss')\n",
    "        \n",
    "    #Predict training set:\n",
    "    X_predictions = alg.predict(X)\n",
    "    X_predprob = alg.predict_proba(X)\n",
    "        \n",
    "    #Print model report:\n",
    "    print(\"\\nModel Report\")\n",
    "    print(\"Log Loss : {:.4f}\".format(log_loss(y, X_predprob))) \n",
    "    print(\"Zindi Score: {:.4f}\".format(zindi_score(y, X_predprob)))\n",
    "                    \n",
    "    return alg, cvresult"
   ]
  },
  {
   "cell_type": "markdown",
   "metadata": {},
   "source": [
    "### Test run with unprocessed features"
   ]
  },
  {
   "cell_type": "code",
   "execution_count": 9,
   "metadata": {},
   "outputs": [],
   "source": [
    "X_proc = preprocessing_pipeline.fit_transform(X)"
   ]
  },
  {
   "cell_type": "code",
   "execution_count": 10,
   "metadata": {},
   "outputs": [
    {
     "name": "stdout",
     "output_type": "stream",
     "text": [
      "\n",
      "Model Report\n",
      "Log Loss : 0.6528\n",
      "Zindi Score: 1.1864\n"
     ]
    }
   ],
   "source": [
    "model = XGBClassifier(**xgb_params)\n",
    "model, cv_results = modelfit(model, X_proc, y)"
   ]
  },
  {
   "cell_type": "code",
   "execution_count": 11,
   "metadata": {},
   "outputs": [
    {
     "data": {
      "text/plain": [
       "<matplotlib.axes._subplots.AxesSubplot at 0x12204cb00>"
      ]
     },
     "execution_count": 11,
     "metadata": {},
     "output_type": "execute_result"
    },
    {
     "data": {
      "image/png": "[encoded data removed]",
      "text/plain": [
       "<Figure size 432x288 with 1 Axes>"
      ]
     },
     "metadata": {
      "needs_background": "light"
     },
     "output_type": "display_data"
    }
   ],
   "source": [
    "cv_results[['train-mlogloss-mean','test-mlogloss-mean']].plot()"
   ]
  },
  {
   "cell_type": "code",
   "execution_count": 12,
   "metadata": {},
   "outputs": [
    {
     "data": {
      "image/png": "[encoded data removed]",
      "text/plain": [
       "<Figure size 720x1080 with 1 Axes>"
      ]
     },
     "metadata": {
      "needs_background": "light"
     },
     "output_type": "display_data"
    }
   ],
   "source": [
    "import matplotlib.pyplot as plt\n",
    "feat_imp = pd.Series(model.get_booster().get_score()).sort_values(ascending=True)\n",
    "feat_imp.plot.barh(title='Feature Importances', figsize=(10,15))\n",
    "plt.ylabel('Feature Importance Score');"
   ]
  },
  {
   "cell_type": "markdown",
   "metadata": {},
   "source": [
    "## Hyper Parameter Tuning"
   ]
  },
  {
   "cell_type": "code",
   "execution_count": 13,
   "metadata": {},
   "outputs": [],
   "source": [
    "from sklearn.model_selection import GridSearchCV\n",
    "from sklearn.metrics import make_scorer"
   ]
  },
  {
   "cell_type": "code",
   "execution_count": 14,
   "metadata": {},
   "outputs": [
    {
     "data": {
      "text/plain": [
       "GridSearchCV(cv='warn', error_score='raise-deprecating',\n",
       "       estimator=XGBClassifier(base_score=0.5, booster='gbtree', colsample_bylevel=1,\n",
       "       colsample_bytree=1, eval_metric='mlogloss', gamma=0,\n",
       "       learning_rate=0.05, max_delta_step=0, max_depth=5,\n",
       "       min_child_weight=1, missing=None, n_estimators=500, n_jobs=1,\n",
       "       nthread=None, num_class=4, objective='multi:softprob',\n",
       "       random_state=0, reg_alpha=0, reg_lambda=1, scale_pos_weight=1,\n",
       "       seed=2019, silent=True, subsample=0.8),\n",
       "       fit_params=None, iid='warn', n_jobs=-1,\n",
       "       param_grid={'max_depth': [3, 5, 7, 9], 'min_child_weight': [1, 3, 5]},\n",
       "       pre_dispatch='2*n_jobs', refit=True, return_train_score='warn',\n",
       "       scoring='neg_log_loss', verbose=0)"
      ]
     },
     "execution_count": 14,
     "metadata": {},
     "output_type": "execute_result"
    }
   ],
   "source": [
    "param_test1 = {\n",
    "    'max_depth':[3,5,7,9],\n",
    "    'min_child_weight':[1,3,5],\n",
    "}\n",
    "\n",
    "gs1 = GridSearchCV(estimator=XGBClassifier(**xgb_params), \n",
    "                   param_grid=param_test1, \n",
    "                   scoring='neg_log_loss',\n",
    "                   n_jobs=-1)\n",
    "gs1.fit(X_proc, y)"
   ]
  },
  {
   "cell_type": "markdown",
   "metadata": {},
   "source": [
    "**Show best score and corresponding params** "
   ]
  },
  {
   "cell_type": "code",
   "execution_count": 15,
   "metadata": {},
   "outputs": [
    {
     "name": "stdout",
     "output_type": "stream",
     "text": [
      "Best score: -0.7780062014022135 with params: {'max_depth': 3, 'min_child_weight': 5}\n"
     ]
    }
   ],
   "source": [
    "print('Best score: {} with params: {}'.format(gs1.best_score_, gs1.best_params_))"
   ]
  },
  {
   "cell_type": "code",
   "execution_count": 146,
   "metadata": {},
   "outputs": [
    {
     "name": "stdout",
     "output_type": "stream",
     "text": [
      "Best score: -0.776105006435493 with params: {'max_depth': 3, 'min_child_weight': 3}\n"
     ]
    }
   ],
   "source": [
    "print('Best score: {} with params: {}'.format(gs1.best_score_, gs1.best_params_))"
   ]
  },
  {
   "cell_type": "markdown",
   "metadata": {},
   "source": [
    "**Update parameter set with best params**"
   ]
  },
  {
   "cell_type": "code",
   "execution_count": 16,
   "metadata": {},
   "outputs": [
    {
     "data": {
      "text/plain": [
       "{'objective': 'multi:softprob',\n",
       " 'num_class': 4,\n",
       " 'eval_metric': 'mlogloss',\n",
       " 'seed': 2019,\n",
       " 'n_estimators': 500,\n",
       " 'max_depth': 3,\n",
       " 'gamma': 0,\n",
       " 'min_child_weight': 5,\n",
       " 'learning_rate': 0.05,\n",
       " 'subsample': 0.8,\n",
       " 'scale_pos_weight': 1}"
      ]
     },
     "execution_count": 16,
     "metadata": {},
     "output_type": "execute_result"
    }
   ],
   "source": [
    "xgb_params.update(gs1.best_params_)\n",
    "xgb_params"
   ]
  },
  {
   "cell_type": "code",
   "execution_count": 20,
   "metadata": {},
   "outputs": [
    {
     "data": {
      "text/plain": [
       "GridSearchCV(cv='warn', error_score='raise-deprecating',\n",
       "       estimator=XGBClassifier(base_score=0.5, booster='gbtree', colsample_bylevel=1,\n",
       "       colsample_bytree=1, eval_metric='mlogloss', gamma=0,\n",
       "       learning_rate=0.05, max_delta_step=0, max_depth=3,\n",
       "       min_child_weight=5, missing=None, n_estimators=500, n_jobs=1,\n",
       "       nthread=None, num_class=4, objective='multi:softprob',\n",
       "       random_state=0, reg_alpha=0, reg_lambda=1, scale_pos_weight=1,\n",
       "       seed=2019, silent=True, subsample=0.8),\n",
       "       fit_params=None, iid='warn', n_jobs=-1,\n",
       "       param_grid={'gamma': [0.0, 0.1, 0.2, 0.3, 0.4, 0.5, 0.6, 0.7, 0.8, 0.9, 1.0]},\n",
       "       pre_dispatch='2*n_jobs', refit=True, return_train_score='warn',\n",
       "       scoring='neg_log_loss', verbose=0)"
      ]
     },
     "execution_count": 20,
     "metadata": {},
     "output_type": "execute_result"
    }
   ],
   "source": [
    "gamma_param_set = {\n",
    "    'gamma': [i/10.0 for i in range(0,11)],\n",
    "}\n",
    "\n",
    "gs2 = GridSearchCV(estimator=XGBClassifier(**xgb_params), param_grid=gamma_param_set, scoring='neg_log_loss', n_jobs=-1)\n",
    "gs2.fit(X_proc, y)"
   ]
  },
  {
   "cell_type": "code",
   "execution_count": 21,
   "metadata": {},
   "outputs": [
    {
     "name": "stdout",
     "output_type": "stream",
     "text": [
      "Best score: -0.7751322307824523 with params: {'gamma': 1.0}\n"
     ]
    }
   ],
   "source": [
    "print('Best score: {} with params: {}'.format(gs2.best_score_, gs2.best_params_))"
   ]
  },
  {
   "cell_type": "code",
   "execution_count": 152,
   "metadata": {},
   "outputs": [
    {
     "name": "stdout",
     "output_type": "stream",
     "text": [
      "Best score: -0.7760532814901704 with params: {'gamma': 0.3}\n"
     ]
    }
   ],
   "source": [
    "print('Best score: {} with params: {}'.format(gs2.best_score_, gs2.best_params_))"
   ]
  },
  {
   "cell_type": "code",
   "execution_count": 22,
   "metadata": {},
   "outputs": [
    {
     "data": {
      "text/html": [
       "<div>\n",
       "<style scoped>\n",
       "    .dataframe tbody tr th:only-of-type {\n",
       "        vertical-align: middle;\n",
       "    }\n",
       "\n",
       "    .dataframe tbody tr th {\n",
       "        vertical-align: top;\n",
       "    }\n",
       "\n",
       "    .dataframe thead th {\n",
       "        text-align: right;\n",
       "    }\n",
       "</style>\n",
       "<table border=\"1\" class=\"dataframe\">\n",
       "  <thead>\n",
       "    <tr style=\"text-align: right;\">\n",
       "      <th></th>\n",
       "      <th>params</th>\n",
       "      <th>mean_test_score</th>\n",
       "      <th>mean_train_score</th>\n",
       "      <th>rank_test_score</th>\n",
       "    </tr>\n",
       "  </thead>\n",
       "  <tbody>\n",
       "    <tr>\n",
       "      <th>0</th>\n",
       "      <td>{'gamma': 0.0}</td>\n",
       "      <td>-0.778006</td>\n",
       "      <td>-0.638490</td>\n",
       "      <td>11</td>\n",
       "    </tr>\n",
       "    <tr>\n",
       "      <th>1</th>\n",
       "      <td>{'gamma': 0.1}</td>\n",
       "      <td>-0.777998</td>\n",
       "      <td>-0.638705</td>\n",
       "      <td>10</td>\n",
       "    </tr>\n",
       "    <tr>\n",
       "      <th>2</th>\n",
       "      <td>{'gamma': 0.2}</td>\n",
       "      <td>-0.777615</td>\n",
       "      <td>-0.638731</td>\n",
       "      <td>8</td>\n",
       "    </tr>\n",
       "    <tr>\n",
       "      <th>3</th>\n",
       "      <td>{'gamma': 0.3}</td>\n",
       "      <td>-0.777621</td>\n",
       "      <td>-0.638985</td>\n",
       "      <td>9</td>\n",
       "    </tr>\n",
       "    <tr>\n",
       "      <th>4</th>\n",
       "      <td>{'gamma': 0.4}</td>\n",
       "      <td>-0.777201</td>\n",
       "      <td>-0.639367</td>\n",
       "      <td>5</td>\n",
       "    </tr>\n",
       "    <tr>\n",
       "      <th>5</th>\n",
       "      <td>{'gamma': 0.5}</td>\n",
       "      <td>-0.777259</td>\n",
       "      <td>-0.639744</td>\n",
       "      <td>6</td>\n",
       "    </tr>\n",
       "    <tr>\n",
       "      <th>6</th>\n",
       "      <td>{'gamma': 0.6}</td>\n",
       "      <td>-0.777434</td>\n",
       "      <td>-0.640695</td>\n",
       "      <td>7</td>\n",
       "    </tr>\n",
       "    <tr>\n",
       "      <th>7</th>\n",
       "      <td>{'gamma': 0.7}</td>\n",
       "      <td>-0.776970</td>\n",
       "      <td>-0.642209</td>\n",
       "      <td>4</td>\n",
       "    </tr>\n",
       "    <tr>\n",
       "      <th>8</th>\n",
       "      <td>{'gamma': 0.8}</td>\n",
       "      <td>-0.776382</td>\n",
       "      <td>-0.644049</td>\n",
       "      <td>3</td>\n",
       "    </tr>\n",
       "    <tr>\n",
       "      <th>9</th>\n",
       "      <td>{'gamma': 0.9}</td>\n",
       "      <td>-0.776016</td>\n",
       "      <td>-0.646481</td>\n",
       "      <td>2</td>\n",
       "    </tr>\n",
       "    <tr>\n",
       "      <th>10</th>\n",
       "      <td>{'gamma': 1.0}</td>\n",
       "      <td>-0.775132</td>\n",
       "      <td>-0.649503</td>\n",
       "      <td>1</td>\n",
       "    </tr>\n",
       "  </tbody>\n",
       "</table>\n",
       "</div>"
      ],
      "text/plain": [
       "            params  mean_test_score  mean_train_score  rank_test_score\n",
       "0   {'gamma': 0.0}        -0.778006         -0.638490               11\n",
       "1   {'gamma': 0.1}        -0.777998         -0.638705               10\n",
       "2   {'gamma': 0.2}        -0.777615         -0.638731                8\n",
       "3   {'gamma': 0.3}        -0.777621         -0.638985                9\n",
       "4   {'gamma': 0.4}        -0.777201         -0.639367                5\n",
       "5   {'gamma': 0.5}        -0.777259         -0.639744                6\n",
       "6   {'gamma': 0.6}        -0.777434         -0.640695                7\n",
       "7   {'gamma': 0.7}        -0.776970         -0.642209                4\n",
       "8   {'gamma': 0.8}        -0.776382         -0.644049                3\n",
       "9   {'gamma': 0.9}        -0.776016         -0.646481                2\n",
       "10  {'gamma': 1.0}        -0.775132         -0.649503                1"
      ]
     },
     "execution_count": 22,
     "metadata": {},
     "output_type": "execute_result"
    }
   ],
   "source": [
    "pd.DataFrame(gs2.cv_results_)[['params','mean_test_score','mean_train_score', 'rank_test_score']]"
   ]
  },
  {
   "cell_type": "markdown",
   "metadata": {},
   "source": [
    "**Fine-tune Gamma**"
   ]
  },
  {
   "cell_type": "code",
   "execution_count": 27,
   "metadata": {},
   "outputs": [
    {
     "name": "stdout",
     "output_type": "stream",
     "text": [
      "Best score: -0.7680511866240102 with params: {'gamma': 2.7}\n"
     ]
    },
    {
     "data": {
      "text/html": [
       "<div>\n",
       "<style scoped>\n",
       "    .dataframe tbody tr th:only-of-type {\n",
       "        vertical-align: middle;\n",
       "    }\n",
       "\n",
       "    .dataframe tbody tr th {\n",
       "        vertical-align: top;\n",
       "    }\n",
       "\n",
       "    .dataframe thead th {\n",
       "        text-align: right;\n",
       "    }\n",
       "</style>\n",
       "<table border=\"1\" class=\"dataframe\">\n",
       "  <thead>\n",
       "    <tr style=\"text-align: right;\">\n",
       "      <th></th>\n",
       "      <th>params</th>\n",
       "      <th>mean_test_score</th>\n",
       "      <th>mean_train_score</th>\n",
       "      <th>rank_test_score</th>\n",
       "    </tr>\n",
       "  </thead>\n",
       "  <tbody>\n",
       "    <tr>\n",
       "      <th>0</th>\n",
       "      <td>{'gamma': 2.5}</td>\n",
       "      <td>-0.768335</td>\n",
       "      <td>-0.706184</td>\n",
       "      <td>3</td>\n",
       "    </tr>\n",
       "    <tr>\n",
       "      <th>1</th>\n",
       "      <td>{'gamma': 2.7}</td>\n",
       "      <td>-0.768051</td>\n",
       "      <td>-0.712458</td>\n",
       "      <td>1</td>\n",
       "    </tr>\n",
       "    <tr>\n",
       "      <th>2</th>\n",
       "      <td>{'gamma': 2.9}</td>\n",
       "      <td>-0.768298</td>\n",
       "      <td>-0.717712</td>\n",
       "      <td>2</td>\n",
       "    </tr>\n",
       "  </tbody>\n",
       "</table>\n",
       "</div>"
      ],
      "text/plain": [
       "           params  mean_test_score  mean_train_score  rank_test_score\n",
       "0  {'gamma': 2.5}        -0.768335         -0.706184                3\n",
       "1  {'gamma': 2.7}        -0.768051         -0.712458                1\n",
       "2  {'gamma': 2.9}        -0.768298         -0.717712                2"
      ]
     },
     "execution_count": 27,
     "metadata": {},
     "output_type": "execute_result"
    }
   ],
   "source": [
    "gamma_param_set = {\n",
    "    'gamma': [ 2.5, 2.7, 2.9],\n",
    "}\n",
    "\n",
    "gs2 = GridSearchCV(estimator=XGBClassifier(**xgb_params), param_grid=gamma_param_set, scoring='neg_log_loss', n_jobs=-1)\n",
    "gs2.fit(X_proc, y)\n",
    "\n",
    "print('Best score: {} with params: {}'.format(gs2.best_score_, gs2.best_params_))\n",
    "pd.DataFrame(gs2.cv_results_)[['params','mean_test_score','mean_train_score', 'rank_test_score']]"
   ]
  },
  {
   "cell_type": "code",
   "execution_count": 28,
   "metadata": {},
   "outputs": [
    {
     "data": {
      "text/plain": [
       "{'objective': 'multi:softprob',\n",
       " 'num_class': 4,\n",
       " 'eval_metric': 'mlogloss',\n",
       " 'seed': 2019,\n",
       " 'n_estimators': 500,\n",
       " 'max_depth': 3,\n",
       " 'gamma': 2.7,\n",
       " 'min_child_weight': 5,\n",
       " 'learning_rate': 0.05,\n",
       " 'subsample': 0.8,\n",
       " 'scale_pos_weight': 1}"
      ]
     },
     "execution_count": 28,
     "metadata": {},
     "output_type": "execute_result"
    }
   ],
   "source": [
    "xgb_params.update(gs2.best_params_)\n",
    "xgb_params"
   ]
  },
  {
   "cell_type": "code",
   "execution_count": 29,
   "metadata": {},
   "outputs": [
    {
     "data": {
      "text/html": [
       "<div>\n",
       "<style scoped>\n",
       "    .dataframe tbody tr th:only-of-type {\n",
       "        vertical-align: middle;\n",
       "    }\n",
       "\n",
       "    .dataframe tbody tr th {\n",
       "        vertical-align: top;\n",
       "    }\n",
       "\n",
       "    .dataframe thead th {\n",
       "        text-align: right;\n",
       "    }\n",
       "</style>\n",
       "<table border=\"1\" class=\"dataframe\">\n",
       "  <thead>\n",
       "    <tr style=\"text-align: right;\">\n",
       "      <th></th>\n",
       "      <th>params</th>\n",
       "      <th>mean_test_score</th>\n",
       "      <th>mean_train_score</th>\n",
       "      <th>rank_test_score</th>\n",
       "    </tr>\n",
       "  </thead>\n",
       "  <tbody>\n",
       "    <tr>\n",
       "      <th>0</th>\n",
       "      <td>{'colsample_bytree': 0.6, 'subsample': 0.6}</td>\n",
       "      <td>-0.767205</td>\n",
       "      <td>-0.718468</td>\n",
       "      <td>3</td>\n",
       "    </tr>\n",
       "    <tr>\n",
       "      <th>1</th>\n",
       "      <td>{'colsample_bytree': 0.6, 'subsample': 0.7}</td>\n",
       "      <td>-0.767554</td>\n",
       "      <td>-0.719195</td>\n",
       "      <td>6</td>\n",
       "    </tr>\n",
       "    <tr>\n",
       "      <th>2</th>\n",
       "      <td>{'colsample_bytree': 0.6, 'subsample': 0.8}</td>\n",
       "      <td>-0.768735</td>\n",
       "      <td>-0.720993</td>\n",
       "      <td>13</td>\n",
       "    </tr>\n",
       "    <tr>\n",
       "      <th>3</th>\n",
       "      <td>{'colsample_bytree': 0.6, 'subsample': 0.9}</td>\n",
       "      <td>-0.769100</td>\n",
       "      <td>-0.725429</td>\n",
       "      <td>16</td>\n",
       "    </tr>\n",
       "    <tr>\n",
       "      <th>4</th>\n",
       "      <td>{'colsample_bytree': 0.7, 'subsample': 0.6}</td>\n",
       "      <td>-0.766959</td>\n",
       "      <td>-0.715478</td>\n",
       "      <td>1</td>\n",
       "    </tr>\n",
       "    <tr>\n",
       "      <th>5</th>\n",
       "      <td>{'colsample_bytree': 0.7, 'subsample': 0.7}</td>\n",
       "      <td>-0.767400</td>\n",
       "      <td>-0.715206</td>\n",
       "      <td>5</td>\n",
       "    </tr>\n",
       "    <tr>\n",
       "      <th>6</th>\n",
       "      <td>{'colsample_bytree': 0.7, 'subsample': 0.8}</td>\n",
       "      <td>-0.767929</td>\n",
       "      <td>-0.717460</td>\n",
       "      <td>10</td>\n",
       "    </tr>\n",
       "    <tr>\n",
       "      <th>7</th>\n",
       "      <td>{'colsample_bytree': 0.7, 'subsample': 0.9}</td>\n",
       "      <td>-0.768608</td>\n",
       "      <td>-0.722898</td>\n",
       "      <td>12</td>\n",
       "    </tr>\n",
       "    <tr>\n",
       "      <th>8</th>\n",
       "      <td>{'colsample_bytree': 0.8, 'subsample': 0.6}</td>\n",
       "      <td>-0.767193</td>\n",
       "      <td>-0.712124</td>\n",
       "      <td>2</td>\n",
       "    </tr>\n",
       "    <tr>\n",
       "      <th>9</th>\n",
       "      <td>{'colsample_bytree': 0.8, 'subsample': 0.7}</td>\n",
       "      <td>-0.767352</td>\n",
       "      <td>-0.713073</td>\n",
       "      <td>4</td>\n",
       "    </tr>\n",
       "    <tr>\n",
       "      <th>10</th>\n",
       "      <td>{'colsample_bytree': 0.8, 'subsample': 0.8}</td>\n",
       "      <td>-0.768150</td>\n",
       "      <td>-0.716149</td>\n",
       "      <td>11</td>\n",
       "    </tr>\n",
       "    <tr>\n",
       "      <th>11</th>\n",
       "      <td>{'colsample_bytree': 0.8, 'subsample': 0.9}</td>\n",
       "      <td>-0.768821</td>\n",
       "      <td>-0.721674</td>\n",
       "      <td>14</td>\n",
       "    </tr>\n",
       "    <tr>\n",
       "      <th>12</th>\n",
       "      <td>{'colsample_bytree': 0.9, 'subsample': 0.6}</td>\n",
       "      <td>-0.767875</td>\n",
       "      <td>-0.709478</td>\n",
       "      <td>9</td>\n",
       "    </tr>\n",
       "    <tr>\n",
       "      <th>13</th>\n",
       "      <td>{'colsample_bytree': 0.9, 'subsample': 0.7}</td>\n",
       "      <td>-0.767632</td>\n",
       "      <td>-0.710267</td>\n",
       "      <td>7</td>\n",
       "    </tr>\n",
       "    <tr>\n",
       "      <th>14</th>\n",
       "      <td>{'colsample_bytree': 0.9, 'subsample': 0.8}</td>\n",
       "      <td>-0.767703</td>\n",
       "      <td>-0.714426</td>\n",
       "      <td>8</td>\n",
       "    </tr>\n",
       "    <tr>\n",
       "      <th>15</th>\n",
       "      <td>{'colsample_bytree': 0.9, 'subsample': 0.9}</td>\n",
       "      <td>-0.769084</td>\n",
       "      <td>-0.720357</td>\n",
       "      <td>15</td>\n",
       "    </tr>\n",
       "  </tbody>\n",
       "</table>\n",
       "</div>"
      ],
      "text/plain": [
       "                                         params  mean_test_score  \\\n",
       "0   {'colsample_bytree': 0.6, 'subsample': 0.6}        -0.767205   \n",
       "1   {'colsample_bytree': 0.6, 'subsample': 0.7}        -0.767554   \n",
       "2   {'colsample_bytree': 0.6, 'subsample': 0.8}        -0.768735   \n",
       "3   {'colsample_bytree': 0.6, 'subsample': 0.9}        -0.769100   \n",
       "4   {'colsample_bytree': 0.7, 'subsample': 0.6}        -0.766959   \n",
       "5   {'colsample_bytree': 0.7, 'subsample': 0.7}        -0.767400   \n",
       "6   {'colsample_bytree': 0.7, 'subsample': 0.8}        -0.767929   \n",
       "7   {'colsample_bytree': 0.7, 'subsample': 0.9}        -0.768608   \n",
       "8   {'colsample_bytree': 0.8, 'subsample': 0.6}        -0.767193   \n",
       "9   {'colsample_bytree': 0.8, 'subsample': 0.7}        -0.767352   \n",
       "10  {'colsample_bytree': 0.8, 'subsample': 0.8}        -0.768150   \n",
       "11  {'colsample_bytree': 0.8, 'subsample': 0.9}        -0.768821   \n",
       "12  {'colsample_bytree': 0.9, 'subsample': 0.6}        -0.767875   \n",
       "13  {'colsample_bytree': 0.9, 'subsample': 0.7}        -0.767632   \n",
       "14  {'colsample_bytree': 0.9, 'subsample': 0.8}        -0.767703   \n",
       "15  {'colsample_bytree': 0.9, 'subsample': 0.9}        -0.769084   \n",
       "\n",
       "    mean_train_score  rank_test_score  \n",
       "0          -0.718468                3  \n",
       "1          -0.719195                6  \n",
       "2          -0.720993               13  \n",
       "3          -0.725429               16  \n",
       "4          -0.715478                1  \n",
       "5          -0.715206                5  \n",
       "6          -0.717460               10  \n",
       "7          -0.722898               12  \n",
       "8          -0.712124                2  \n",
       "9          -0.713073                4  \n",
       "10         -0.716149               11  \n",
       "11         -0.721674               14  \n",
       "12         -0.709478                9  \n",
       "13         -0.710267                7  \n",
       "14         -0.714426                8  \n",
       "15         -0.720357               15  "
      ]
     },
     "metadata": {},
     "output_type": "display_data"
    },
    {
     "name": "stdout",
     "output_type": "stream",
     "text": [
      "\n",
      "Best score: -0.7669594196451989 with params: {'colsample_bytree': 0.7, 'subsample': 0.6}\n"
     ]
    },
    {
     "data": {
      "text/plain": [
       "{'objective': 'multi:softprob',\n",
       " 'num_class': 4,\n",
       " 'eval_metric': 'mlogloss',\n",
       " 'seed': 2019,\n",
       " 'n_estimators': 500,\n",
       " 'max_depth': 3,\n",
       " 'gamma': 2.7,\n",
       " 'min_child_weight': 5,\n",
       " 'learning_rate': 0.05,\n",
       " 'subsample': 0.6,\n",
       " 'scale_pos_weight': 1,\n",
       " 'colsample_bytree': 0.7}"
      ]
     },
     "execution_count": 29,
     "metadata": {},
     "output_type": "execute_result"
    }
   ],
   "source": [
    "subsample_param_set = {\n",
    "    'subsample': [i/10.0 for i in range(6, 10)],\n",
    "    'colsample_bytree': [i/10.0 for i in range(6,10)]\n",
    "}\n",
    "\n",
    "gs3 = GridSearchCV(\n",
    "    estimator=XGBClassifier(**xgb_params),\n",
    "    param_grid=subsample_param_set, \n",
    "    scoring='neg_log_loss', \n",
    "    n_jobs=-1\n",
    ")\n",
    "gs3.fit(X_proc, y)\n",
    "\n",
    "display(pd.DataFrame(gs3.cv_results_)[['params','mean_test_score','mean_train_score', 'rank_test_score']])\n",
    "\n",
    "print('\\nBest score: {} with params: {}'.format(gs3.best_score_, gs3.best_params_))\n",
    "\n",
    "xgb_params.update(gs3.best_params_)\n",
    "xgb_params"
   ]
  },
  {
   "cell_type": "code",
   "execution_count": 40,
   "metadata": {},
   "outputs": [
    {
     "name": "stdout",
     "output_type": "stream",
     "text": [
      "Collecting scikit-optimize\n",
      "  Using cached https://files.pythonhosted.org/packages/f4/44/60f82c97d1caa98752c7da2c1681cab5c7a390a0fdd3a55fac672b321cac/scikit_optimize-0.5.2-py2.py3-none-any.whl\n",
      "Requirement already satisfied: scikit-learn>=0.19.1 in /Users/renier.botha/anaconda3/envs/mobile_money/lib/python3.7/site-packages (from scikit-optimize) (0.20.3)\n",
      "Requirement already satisfied: scipy>=0.14.0 in /Users/renier.botha/anaconda3/envs/mobile_money/lib/python3.7/site-packages (from scikit-optimize) (1.2.1)\n",
      "Requirement already satisfied: numpy in /Users/renier.botha/anaconda3/envs/mobile_money/lib/python3.7/site-packages (from scikit-optimize) (1.16.2)\n",
      "Installing collected packages: scikit-optimize\n",
      "Successfully installed scikit-optimize-0.5.2\n",
      "\u001b[33mYou are using pip version 19.0.3, however version 19.1.1 is available.\n",
      "You should consider upgrading via the 'pip install --upgrade pip' command.\u001b[0m\n"
     ]
    }
   ],
   "source": [
    "! pip install scikit-optimize"
   ]
  },
  {
   "cell_type": "code",
   "execution_count": 30,
   "metadata": {},
   "outputs": [
    {
     "data": {
      "text/html": [
       "<div>\n",
       "<style scoped>\n",
       "    .dataframe tbody tr th:only-of-type {\n",
       "        vertical-align: middle;\n",
       "    }\n",
       "\n",
       "    .dataframe tbody tr th {\n",
       "        vertical-align: top;\n",
       "    }\n",
       "\n",
       "    .dataframe thead th {\n",
       "        text-align: right;\n",
       "    }\n",
       "</style>\n",
       "<table border=\"1\" class=\"dataframe\">\n",
       "  <thead>\n",
       "    <tr style=\"text-align: right;\">\n",
       "      <th></th>\n",
       "      <th>params</th>\n",
       "      <th>mean_test_score</th>\n",
       "      <th>mean_train_score</th>\n",
       "      <th>rank_test_score</th>\n",
       "    </tr>\n",
       "  </thead>\n",
       "  <tbody>\n",
       "    <tr>\n",
       "      <th>0</th>\n",
       "      <td>{'reg_alpha': 1e-05}</td>\n",
       "      <td>-0.766959</td>\n",
       "      <td>-0.715478</td>\n",
       "      <td>3</td>\n",
       "    </tr>\n",
       "    <tr>\n",
       "      <th>1</th>\n",
       "      <td>{'reg_alpha': 0.01}</td>\n",
       "      <td>-0.766898</td>\n",
       "      <td>-0.715816</td>\n",
       "      <td>2</td>\n",
       "    </tr>\n",
       "    <tr>\n",
       "      <th>2</th>\n",
       "      <td>{'reg_alpha': 0.1}</td>\n",
       "      <td>-0.766834</td>\n",
       "      <td>-0.717145</td>\n",
       "      <td>1</td>\n",
       "    </tr>\n",
       "    <tr>\n",
       "      <th>3</th>\n",
       "      <td>{'reg_alpha': 1}</td>\n",
       "      <td>-0.767404</td>\n",
       "      <td>-0.731248</td>\n",
       "      <td>4</td>\n",
       "    </tr>\n",
       "    <tr>\n",
       "      <th>4</th>\n",
       "      <td>{'reg_alpha': 100}</td>\n",
       "      <td>-0.941001</td>\n",
       "      <td>-0.938828</td>\n",
       "      <td>5</td>\n",
       "    </tr>\n",
       "  </tbody>\n",
       "</table>\n",
       "</div>"
      ],
      "text/plain": [
       "                 params  mean_test_score  mean_train_score  rank_test_score\n",
       "0  {'reg_alpha': 1e-05}        -0.766959         -0.715478                3\n",
       "1   {'reg_alpha': 0.01}        -0.766898         -0.715816                2\n",
       "2    {'reg_alpha': 0.1}        -0.766834         -0.717145                1\n",
       "3      {'reg_alpha': 1}        -0.767404         -0.731248                4\n",
       "4    {'reg_alpha': 100}        -0.941001         -0.938828                5"
      ]
     },
     "metadata": {},
     "output_type": "display_data"
    },
    {
     "name": "stdout",
     "output_type": "stream",
     "text": [
      "\n",
      "Best score: -0.7668343705939371 with params: {'reg_alpha': 0.1}\n"
     ]
    },
    {
     "data": {
      "text/plain": [
       "{'objective': 'multi:softprob',\n",
       " 'num_class': 4,\n",
       " 'eval_metric': 'mlogloss',\n",
       " 'seed': 2019,\n",
       " 'n_estimators': 500,\n",
       " 'max_depth': 3,\n",
       " 'gamma': 2.7,\n",
       " 'min_child_weight': 5,\n",
       " 'learning_rate': 0.05,\n",
       " 'subsample': 0.6,\n",
       " 'scale_pos_weight': 1,\n",
       " 'colsample_bytree': 0.7,\n",
       " 'reg_alpha': 0.1}"
      ]
     },
     "execution_count": 30,
     "metadata": {},
     "output_type": "execute_result"
    }
   ],
   "source": [
    "reg_param_set = {\n",
    "    'reg_alpha': [1e-5, 1e-2, 0.1, 1, 100]\n",
    "}\n",
    "\n",
    "gs4 = GridSearchCV(\n",
    "    estimator=XGBClassifier(**xgb_params),\n",
    "    param_grid=reg_param_set, \n",
    "    scoring='neg_log_loss', \n",
    "    n_jobs=-1\n",
    ")\n",
    "gs4.fit(X_proc, y)\n",
    "\n",
    "display(pd.DataFrame(gs4.cv_results_)[['params','mean_test_score','mean_train_score', 'rank_test_score']])\n",
    "\n",
    "print('\\nBest score: {} with params: {}'.format(gs4.best_score_, gs4.best_params_))\n",
    "\n",
    "xgb_params.update(gs4.best_params_)\n",
    "xgb_params"
   ]
  },
  {
   "cell_type": "code",
   "execution_count": 32,
   "metadata": {},
   "outputs": [
    {
     "data": {
      "text/html": [
       "<div>\n",
       "<style scoped>\n",
       "    .dataframe tbody tr th:only-of-type {\n",
       "        vertical-align: middle;\n",
       "    }\n",
       "\n",
       "    .dataframe tbody tr th {\n",
       "        vertical-align: top;\n",
       "    }\n",
       "\n",
       "    .dataframe thead th {\n",
       "        text-align: right;\n",
       "    }\n",
       "</style>\n",
       "<table border=\"1\" class=\"dataframe\">\n",
       "  <thead>\n",
       "    <tr style=\"text-align: right;\">\n",
       "      <th></th>\n",
       "      <th>params</th>\n",
       "      <th>mean_test_score</th>\n",
       "      <th>mean_train_score</th>\n",
       "      <th>rank_test_score</th>\n",
       "    </tr>\n",
       "  </thead>\n",
       "  <tbody>\n",
       "    <tr>\n",
       "      <th>0</th>\n",
       "      <td>{'reg_alpha': 0.0}</td>\n",
       "      <td>-0.766959</td>\n",
       "      <td>-0.715478</td>\n",
       "      <td>4</td>\n",
       "    </tr>\n",
       "    <tr>\n",
       "      <th>1</th>\n",
       "      <td>{'reg_alpha': 0.1}</td>\n",
       "      <td>-0.766834</td>\n",
       "      <td>-0.717145</td>\n",
       "      <td>1</td>\n",
       "    </tr>\n",
       "    <tr>\n",
       "      <th>2</th>\n",
       "      <td>{'reg_alpha': 0.2}</td>\n",
       "      <td>-0.766860</td>\n",
       "      <td>-0.719213</td>\n",
       "      <td>2</td>\n",
       "    </tr>\n",
       "    <tr>\n",
       "      <th>3</th>\n",
       "      <td>{'reg_alpha': 0.3}</td>\n",
       "      <td>-0.766924</td>\n",
       "      <td>-0.721086</td>\n",
       "      <td>3</td>\n",
       "    </tr>\n",
       "    <tr>\n",
       "      <th>4</th>\n",
       "      <td>{'reg_alpha': 0.4}</td>\n",
       "      <td>-0.766998</td>\n",
       "      <td>-0.722555</td>\n",
       "      <td>5</td>\n",
       "    </tr>\n",
       "    <tr>\n",
       "      <th>5</th>\n",
       "      <td>{'reg_alpha': 0.5}</td>\n",
       "      <td>-0.767206</td>\n",
       "      <td>-0.724275</td>\n",
       "      <td>6</td>\n",
       "    </tr>\n",
       "    <tr>\n",
       "      <th>6</th>\n",
       "      <td>{'reg_alpha': 0.6}</td>\n",
       "      <td>-0.767350</td>\n",
       "      <td>-0.725800</td>\n",
       "      <td>7</td>\n",
       "    </tr>\n",
       "    <tr>\n",
       "      <th>7</th>\n",
       "      <td>{'reg_alpha': 0.7}</td>\n",
       "      <td>-0.767435</td>\n",
       "      <td>-0.727417</td>\n",
       "      <td>10</td>\n",
       "    </tr>\n",
       "    <tr>\n",
       "      <th>8</th>\n",
       "      <td>{'reg_alpha': 0.8}</td>\n",
       "      <td>-0.767353</td>\n",
       "      <td>-0.728912</td>\n",
       "      <td>8</td>\n",
       "    </tr>\n",
       "    <tr>\n",
       "      <th>9</th>\n",
       "      <td>{'reg_alpha': 0.9}</td>\n",
       "      <td>-0.767555</td>\n",
       "      <td>-0.730024</td>\n",
       "      <td>11</td>\n",
       "    </tr>\n",
       "    <tr>\n",
       "      <th>10</th>\n",
       "      <td>{'reg_alpha': 1.0}</td>\n",
       "      <td>-0.767404</td>\n",
       "      <td>-0.731248</td>\n",
       "      <td>9</td>\n",
       "    </tr>\n",
       "  </tbody>\n",
       "</table>\n",
       "</div>"
      ],
      "text/plain": [
       "                params  mean_test_score  mean_train_score  rank_test_score\n",
       "0   {'reg_alpha': 0.0}        -0.766959         -0.715478                4\n",
       "1   {'reg_alpha': 0.1}        -0.766834         -0.717145                1\n",
       "2   {'reg_alpha': 0.2}        -0.766860         -0.719213                2\n",
       "3   {'reg_alpha': 0.3}        -0.766924         -0.721086                3\n",
       "4   {'reg_alpha': 0.4}        -0.766998         -0.722555                5\n",
       "5   {'reg_alpha': 0.5}        -0.767206         -0.724275                6\n",
       "6   {'reg_alpha': 0.6}        -0.767350         -0.725800                7\n",
       "7   {'reg_alpha': 0.7}        -0.767435         -0.727417               10\n",
       "8   {'reg_alpha': 0.8}        -0.767353         -0.728912                8\n",
       "9   {'reg_alpha': 0.9}        -0.767555         -0.730024               11\n",
       "10  {'reg_alpha': 1.0}        -0.767404         -0.731248                9"
      ]
     },
     "metadata": {},
     "output_type": "display_data"
    },
    {
     "name": "stdout",
     "output_type": "stream",
     "text": [
      "\n",
      "Best score: -0.7668343705939371 with params: {'reg_alpha': 0.1}\n"
     ]
    },
    {
     "data": {
      "text/plain": [
       "{'objective': 'multi:softprob',\n",
       " 'num_class': 4,\n",
       " 'eval_metric': 'mlogloss',\n",
       " 'seed': 2019,\n",
       " 'n_estimators': 500,\n",
       " 'max_depth': 3,\n",
       " 'gamma': 2.7,\n",
       " 'min_child_weight': 5,\n",
       " 'learning_rate': 0.05,\n",
       " 'subsample': 0.6,\n",
       " 'scale_pos_weight': 1,\n",
       " 'colsample_bytree': 0.7,\n",
       " 'reg_alpha': 0.1}"
      ]
     },
     "execution_count": 32,
     "metadata": {},
     "output_type": "execute_result"
    }
   ],
   "source": [
    "reg_param_set = {\n",
    "    'reg_alpha':  [i/10.0 for i in range(0, 11)]\n",
    "}\n",
    "\n",
    "gs4 = GridSearchCV(\n",
    "    estimator=XGBClassifier(**xgb_params),\n",
    "    param_grid=reg_param_set, \n",
    "    scoring='neg_log_loss', \n",
    "    n_jobs=-1\n",
    ")\n",
    "gs4.fit(X_proc, y)\n",
    "\n",
    "display(pd.DataFrame(gs4.cv_results_)[['params','mean_test_score','mean_train_score', 'rank_test_score']])\n",
    "\n",
    "print('\\nBest score: {} with params: {}'.format(gs4.best_score_, gs4.best_params_))\n",
    "xgb_params.update(gs4.best_params_)\n",
    "xgb_params"
   ]
  },
  {
   "cell_type": "markdown",
   "metadata": {},
   "source": [
    "## Hyper Parameter Tuning Using `skopt`"
   ]
  },
  {
   "cell_type": "code",
   "execution_count": 53,
   "metadata": {},
   "outputs": [
    {
     "data": {
      "text/plain": [
       "<Figure size 864x576 with 0 Axes>"
      ]
     },
     "metadata": {},
     "output_type": "display_data"
    }
   ],
   "source": [
    "from skopt.space import Real, Integer\n",
    "from skopt.utils import use_named_args\n",
    "from skopt import gp_minimize\n",
    "from skopt.plots import plot_convergence\n",
    "\n",
    "from sklearn.model_selection import cross_val_score, StratifiedKFold\n",
    "\n",
    "from IPython.display import clear_output\n",
    "\n",
    "class ConvergencePlotCallback(object):\n",
    "    def __init__(self, figsize=(12,8)):\n",
    "        self.fig = plt.figure(figsize=figsize)\n",
    "\n",
    "    def __call__(self, res):\n",
    "        clear_output(wait=True)\n",
    "        plot_convergence(res)\n",
    "        plt.show()\n",
    "        \n",
    "skf = StratifiedKFold(n_splits=5)\n",
    "plot_callback = ConvergencePlotCallback(figsize=(12,8));"
   ]
  },
  {
   "cell_type": "code",
   "execution_count": 54,
   "metadata": {},
   "outputs": [],
   "source": [
    "space = [\n",
    "    Integer(1, 5, name='max_depth'),\n",
    "    Real(1e-5, 1, \"log-uniform\", name='learning_rate'),\n",
    "    Integer(1, 5, name='min_child_weight'),\n",
    "    Real(0.001, 4, \"log-uniform\", name='gamma'),\n",
    "    Real(0.5, 1.0, \"uniform\", name=\"subsample\"),\n",
    "    Real(0.5, 1.0, \"uniform\", name='colsample_bytree'),\n",
    "    Real(1e-5, 100, \"log-uniform\", name=\"reg_alpha\")\n",
    "]\n",
    "\n",
    "@use_named_args(space)\n",
    "def objective(**params):\n",
    "    \n",
    "    new_params = {**xgb_params}\n",
    "    new_params.update(**params)\n",
    "    \n",
    "    pipeline = Pipeline([\n",
    "        ('features',preprocessing_pipeline),\n",
    "        ('classifier', XGBClassifier(**new_params))\n",
    "    ])\n",
    "    \n",
    "    score = -np.mean(cross_val_score(pipeline, X, y, cv=skf, n_jobs=-1, scoring='neg_log_loss'))\n",
    "    \n",
    "    return score"
   ]
  },
  {
   "cell_type": "code",
   "execution_count": 55,
   "metadata": {},
   "outputs": [
    {
     "data": {
      "image/png": "[encoded data removed]",
      "text/plain": [
       "<Figure size 432x288 with 1 Axes>"
      ]
     },
     "metadata": {
      "needs_background": "light"
     },
     "output_type": "display_data"
    }
   ],
   "source": [
    "gp_results = gp_minimize(objective, space, n_calls=50, random_state=2019, callback=[plot_callback])"
   ]
  },
  {
   "cell_type": "code",
   "execution_count": 69,
   "metadata": {},
   "outputs": [
    {
     "name": "stdout",
     "output_type": "stream",
     "text": [
      "max_depth 2\n",
      "learning_rate 0.045055093989804396\n",
      "min_child_weight 5\n",
      "gamma 0.016880047584747072\n",
      "subsample 0.5\n",
      "colsample_bytree 0.5\n",
      "reg_alpha 0.0007967773809231392\n"
     ]
    },
    {
     "data": {
      "text/plain": [
       "{'max_depth': 2,\n",
       " 'learning_rate': 0.045055093989804396,\n",
       " 'min_child_weight': 5,\n",
       " 'gamma': 0.016880047584747072,\n",
       " 'subsample': 0.5,\n",
       " 'colsample_bytree': 0.5,\n",
       " 'reg_alpha': 0.0007967773809231392}"
      ]
     },
     "execution_count": 69,
     "metadata": {},
     "output_type": "execute_result"
    }
   ],
   "source": [
    "params = ['max_depth','learning_rate','min_child_weight', 'gamma','subsample','colsample_bytree', 'reg_alpha']\n",
    "\n",
    "opt_params = {}\n",
    "for param, val in zip(params, gp_results.x):\n",
    "    print(param, val)\n",
    "    opt_params[param] = val\n",
    "    \n",
    "opt_params"
   ]
  },
  {
   "cell_type": "code",
   "execution_count": 72,
   "metadata": {},
   "outputs": [
    {
     "data": {
      "text/plain": [
       "XGBClassifier(base_score=0.5, booster='gbtree', colsample_bylevel=1,\n",
       "       colsample_bytree=0.5, eval_metric='mlogloss',\n",
       "       gamma=0.016880047584747072, learning_rate=0.045055093989804396,\n",
       "       max_delta_step=0, max_depth=2, min_child_weight=5, missing=None,\n",
       "       n_estimators=500, n_jobs=1, nthread=None, num_class=4,\n",
       "       objective='multi:softprob', random_state=0,\n",
       "       reg_alpha=0.0007967773809231392, reg_lambda=1, scale_pos_weight=1,\n",
       "       seed=2019, silent=True, subsample=0.5)"
      ]
     },
     "execution_count": 72,
     "metadata": {},
     "output_type": "execute_result"
    }
   ],
   "source": [
    "xgb_params.update(opt_params)\n",
    "\n",
    "best_model = XGBClassifier(**xgb_params)\n",
    "\n",
    "best_model.fit(X_proc, y)"
   ]
  },
  {
   "cell_type": "markdown",
   "metadata": {},
   "source": [
    "## Make Prediction"
   ]
  },
  {
   "cell_type": "code",
   "execution_count": 75,
   "metadata": {},
   "outputs": [],
   "source": [
    "from src.utils import make_sub"
   ]
  },
  {
   "cell_type": "code",
   "execution_count": 76,
   "metadata": {},
   "outputs": [],
   "source": [
    "X_test = pd.read_csv('../../data/raw/test.csv', index_col=0)\n",
    "\n",
    "X_test_proc = preprocessing_pipeline.transform(X_test)"
   ]
  },
  {
   "cell_type": "code",
   "execution_count": 77,
   "metadata": {},
   "outputs": [
    {
     "data": {
      "text/html": [
       "<div>\n",
       "<style scoped>\n",
       "    .dataframe tbody tr th:only-of-type {\n",
       "        vertical-align: middle;\n",
       "    }\n",
       "\n",
       "    .dataframe tbody tr th {\n",
       "        vertical-align: top;\n",
       "    }\n",
       "\n",
       "    .dataframe thead th {\n",
       "        text-align: right;\n",
       "    }\n",
       "</style>\n",
       "<table border=\"1\" class=\"dataframe\">\n",
       "  <thead>\n",
       "    <tr style=\"text-align: right;\">\n",
       "      <th></th>\n",
       "      <th>no_financial_services</th>\n",
       "      <th>other_only</th>\n",
       "      <th>mm_only</th>\n",
       "      <th>mm_plus</th>\n",
       "    </tr>\n",
       "  </thead>\n",
       "  <tbody>\n",
       "    <tr>\n",
       "      <th>2352</th>\n",
       "      <td>0.000266</td>\n",
       "      <td>0.000729</td>\n",
       "      <td>0.218578</td>\n",
       "      <td>0.780427</td>\n",
       "    </tr>\n",
       "    <tr>\n",
       "      <th>8208</th>\n",
       "      <td>0.023080</td>\n",
       "      <td>0.046868</td>\n",
       "      <td>0.186810</td>\n",
       "      <td>0.743242</td>\n",
       "    </tr>\n",
       "    <tr>\n",
       "      <th>2785</th>\n",
       "      <td>0.000868</td>\n",
       "      <td>0.007127</td>\n",
       "      <td>0.106930</td>\n",
       "      <td>0.885075</td>\n",
       "    </tr>\n",
       "    <tr>\n",
       "      <th>2967</th>\n",
       "      <td>0.404901</td>\n",
       "      <td>0.520744</td>\n",
       "      <td>0.019177</td>\n",
       "      <td>0.055178</td>\n",
       "    </tr>\n",
       "    <tr>\n",
       "      <th>1697</th>\n",
       "      <td>0.000163</td>\n",
       "      <td>0.001275</td>\n",
       "      <td>0.126783</td>\n",
       "      <td>0.871779</td>\n",
       "    </tr>\n",
       "  </tbody>\n",
       "</table>\n",
       "</div>"
      ],
      "text/plain": [
       "      no_financial_services  other_only   mm_only   mm_plus\n",
       "2352               0.000266    0.000729  0.218578  0.780427\n",
       "8208               0.023080    0.046868  0.186810  0.743242\n",
       "2785               0.000868    0.007127  0.106930  0.885075\n",
       "2967               0.404901    0.520744  0.019177  0.055178\n",
       "1697               0.000163    0.001275  0.126783  0.871779"
      ]
     },
     "execution_count": 77,
     "metadata": {},
     "output_type": "execute_result"
    }
   ],
   "source": [
    "test_probs = best_model.predict_proba(X_test_proc)\n",
    "\n",
    "sub_df = make_sub(test_probs)\n",
    "\n",
    "sub_df.head()"
   ]
  },
  {
   "cell_type": "code",
   "execution_count": 78,
   "metadata": {},
   "outputs": [],
   "source": [
    "sub_df.to_csv('../../data/submissions/xgb_baseline_tuned.csv')"
   ]
  },
  {
   "cell_type": "markdown",
   "metadata": {},
   "source": [
    "### Simple train/test split"
   ]
  },
  {
   "cell_type": "markdown",
   "metadata": {},
   "source": [
    "### Predict on test set"
   ]
  }
 ],
 "metadata": {
  "kernelspec": {
   "display_name": "Python 3",
   "language": "python",
   "name": "python3"
  },
  "language_info": {
   "codemirror_mode": {
    "name": "ipython",
    "version": 3
   },
   "file_extension": ".py",
   "mimetype": "text/x-python",
   "name": "python",
   "nbconvert_exporter": "python",
   "pygments_lexer": "ipython3",
   "version": "3.7.2"
  }
 },
 "nbformat": 4,
 "nbformat_minor": 2
}
